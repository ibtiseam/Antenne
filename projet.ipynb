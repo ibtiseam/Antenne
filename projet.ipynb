{
 "cells": [
  {
   "cell_type": "markdown",
   "metadata": {},
   "source": [
    "<img src=\"tpan1.png\">"
   ]
  },
  {
   "cell_type": "markdown",
   "metadata": {},
   "source": [
    "### Résumé\n",
    ">Dans ces MINI-Projet nous avons accédé aux données de référence sur les fréquences en France. Cette donnée renseigne l'emplacement des antennes relais ainsi que les mesures des champs électromagnétiques sur le département de l'Hérault, pour l'analyser est interprété des résultats et nous avons fait des prédictions en utilisons des algorithmes machinés learning. \t&#x1F601;\n",
    "\n"
   ]
  },
  {
   "cell_type": "markdown",
   "metadata": {},
   "source": [
    "* **<span style=\"color:red\">Ces données sont la propriété de l'Agence Nationale des Fréquences (ANFR) </span>**"
   ]
  },
  {
   "cell_type": "code",
   "execution_count": 2,
   "metadata": {
    "scrolled": true
   },
   "outputs": [
    {
     "data": {
      "text/html": [
       "<div>\n",
       "<style scoped>\n",
       "    .dataframe tbody tr th:only-of-type {\n",
       "        vertical-align: middle;\n",
       "    }\n",
       "\n",
       "    .dataframe tbody tr th {\n",
       "        vertical-align: top;\n",
       "    }\n",
       "\n",
       "    .dataframe thead th {\n",
       "        text-align: right;\n",
       "    }\n",
       "</style>\n",
       "<table border=\"1\" class=\"dataframe\">\n",
       "  <thead>\n",
       "    <tr style=\"text-align: right;\">\n",
       "      <th></th>\n",
       "      <th>Numero de mesure</th>\n",
       "      <th>Longitude</th>\n",
       "      <th>Latitude</th>\n",
       "      <th>Position</th>\n",
       "      <th>Insee</th>\n",
       "      <th>Adresse</th>\n",
       "      <th>Complement</th>\n",
       "      <th>Code postal</th>\n",
       "      <th>Commune</th>\n",
       "      <th>Date de mesure</th>\n",
       "      <th>Mesure realisee</th>\n",
       "      <th>Rapport</th>\n",
       "      <th>Conformite de la mesure</th>\n",
       "      <th>Niveau global</th>\n",
       "      <th>Type d'environnement</th>\n",
       "      <th>Laboratoire</th>\n",
       "    </tr>\n",
       "  </thead>\n",
       "  <tbody>\n",
       "    <tr>\n",
       "      <th>0</th>\n",
       "      <td>175</td>\n",
       "      <td>3.91611</td>\n",
       "      <td>43.58528</td>\n",
       "      <td>03e 54' 58.00'' Est, 43e 35' 07.00'' Nord</td>\n",
       "      <td>34129</td>\n",
       "      <td>Mas de Gau</td>\n",
       "      <td>NaN</td>\n",
       "      <td>34970</td>\n",
       "      <td>LATTES</td>\n",
       "      <td>06/12/2001</td>\n",
       "      <td>En exterieur</td>\n",
       "      <td>FicheMesure175.pdf</td>\n",
       "      <td>Oui</td>\n",
       "      <td>0.00</td>\n",
       "      <td>Divers</td>\n",
       "      <td>SATELIT</td>\n",
       "    </tr>\n",
       "    <tr>\n",
       "      <th>1</th>\n",
       "      <td>180</td>\n",
       "      <td>4.04194</td>\n",
       "      <td>43.64694</td>\n",
       "      <td>04e 02' 31.00'' Est, 43e 38' 49.00'' Nord</td>\n",
       "      <td>34176</td>\n",
       "      <td>5539 Rue Lou Claou de la Oulivettas</td>\n",
       "      <td>NaN</td>\n",
       "      <td>34130</td>\n",
       "      <td>MUDAISON</td>\n",
       "      <td>06/12/2001</td>\n",
       "      <td>En exterieur</td>\n",
       "      <td>FicheMesure180.pdf</td>\n",
       "      <td>Oui</td>\n",
       "      <td>0.00</td>\n",
       "      <td>Divers</td>\n",
       "      <td>SATELIT</td>\n",
       "    </tr>\n",
       "    <tr>\n",
       "      <th>2</th>\n",
       "      <td>543</td>\n",
       "      <td>3.03167</td>\n",
       "      <td>43.36028</td>\n",
       "      <td>03e 01' 54.00'' Est, 43e 21' 37.00'' Nord</td>\n",
       "      <td>34225</td>\n",
       "      <td>Chemin de Montfaucon</td>\n",
       "      <td>residence de  Mme SOUTADE</td>\n",
       "      <td>34620</td>\n",
       "      <td>PUISSERGUIER</td>\n",
       "      <td>23/05/2002</td>\n",
       "      <td>En exterieur</td>\n",
       "      <td>FicheMesure543.pdf</td>\n",
       "      <td>Oui</td>\n",
       "      <td>0.54</td>\n",
       "      <td>Divers</td>\n",
       "      <td>APAVE</td>\n",
       "    </tr>\n",
       "    <tr>\n",
       "      <th>3</th>\n",
       "      <td>545</td>\n",
       "      <td>3.03278</td>\n",
       "      <td>43.36167</td>\n",
       "      <td>03e 01' 58.00'' Est, 43e 21' 42.00'' Nord</td>\n",
       "      <td>34225</td>\n",
       "      <td>Chemin de Quarante</td>\n",
       "      <td>residence de  M. GONZALEZ</td>\n",
       "      <td>34620</td>\n",
       "      <td>PUISSERGUIER</td>\n",
       "      <td>23/05/2002</td>\n",
       "      <td>En exterieur</td>\n",
       "      <td>FicheMesure545.pdf</td>\n",
       "      <td>Oui</td>\n",
       "      <td>0.20</td>\n",
       "      <td>Divers</td>\n",
       "      <td>APAVE</td>\n",
       "    </tr>\n",
       "    <tr>\n",
       "      <th>4</th>\n",
       "      <td>850</td>\n",
       "      <td>3.56444</td>\n",
       "      <td>43.64583</td>\n",
       "      <td>03e 33' 52.00'' Est, 43e 38' 45.00'' Nord</td>\n",
       "      <td>34114</td>\n",
       "      <td>480 Chemin de Pioch Courbi</td>\n",
       "      <td>Chez Mme et M. GALOIS</td>\n",
       "      <td>34150</td>\n",
       "      <td>GIGNAC</td>\n",
       "      <td>10/10/2002</td>\n",
       "      <td>En exterieur</td>\n",
       "      <td>FicheMesure850.pdf</td>\n",
       "      <td>Oui</td>\n",
       "      <td>0.53</td>\n",
       "      <td>Rue / Route / Parking</td>\n",
       "      <td>APAVE</td>\n",
       "    </tr>\n",
       "  </tbody>\n",
       "</table>\n",
       "</div>"
      ],
      "text/plain": [
       "   Numero de mesure  Longitude  Latitude  \\\n",
       "0               175    3.91611  43.58528   \n",
       "1               180    4.04194  43.64694   \n",
       "2               543    3.03167  43.36028   \n",
       "3               545    3.03278  43.36167   \n",
       "4               850    3.56444  43.64583   \n",
       "\n",
       "                                    Position  Insee  \\\n",
       "0  03e 54' 58.00'' Est, 43e 35' 07.00'' Nord  34129   \n",
       "1  04e 02' 31.00'' Est, 43e 38' 49.00'' Nord  34176   \n",
       "2  03e 01' 54.00'' Est, 43e 21' 37.00'' Nord  34225   \n",
       "3  03e 01' 58.00'' Est, 43e 21' 42.00'' Nord  34225   \n",
       "4  03e 33' 52.00'' Est, 43e 38' 45.00'' Nord  34114   \n",
       "\n",
       "                               Adresse                 Complement  \\\n",
       "0                           Mas de Gau                        NaN   \n",
       "1  5539 Rue Lou Claou de la Oulivettas                        NaN   \n",
       "2                 Chemin de Montfaucon  residence de  Mme SOUTADE   \n",
       "3                   Chemin de Quarante  residence de  M. GONZALEZ   \n",
       "4           480 Chemin de Pioch Courbi      Chez Mme et M. GALOIS   \n",
       "\n",
       "   Code postal       Commune Date de mesure Mesure realisee  \\\n",
       "0        34970        LATTES     06/12/2001    En exterieur   \n",
       "1        34130      MUDAISON     06/12/2001    En exterieur   \n",
       "2        34620  PUISSERGUIER     23/05/2002    En exterieur   \n",
       "3        34620  PUISSERGUIER     23/05/2002    En exterieur   \n",
       "4        34150        GIGNAC     10/10/2002    En exterieur   \n",
       "\n",
       "              Rapport Conformite de la mesure  Niveau global  \\\n",
       "0  FicheMesure175.pdf                     Oui           0.00   \n",
       "1  FicheMesure180.pdf                     Oui           0.00   \n",
       "2  FicheMesure543.pdf                     Oui           0.54   \n",
       "3  FicheMesure545.pdf                     Oui           0.20   \n",
       "4  FicheMesure850.pdf                     Oui           0.53   \n",
       "\n",
       "    Type d'environnement Laboratoire  \n",
       "0                 Divers     SATELIT  \n",
       "1                 Divers     SATELIT  \n",
       "2                 Divers       APAVE  \n",
       "3                 Divers       APAVE  \n",
       "4  Rue / Route / Parking       APAVE  "
      ]
     },
     "execution_count": 2,
     "metadata": {},
     "output_type": "execute_result"
    }
   ],
   "source": [
    "import pandas as pd \n",
    "import numpy as np\n",
    "import csv\n",
    "import matplotlib.pyplot as plt\n",
    "import seaborn as sns\n",
    "from csv import writer\n",
    "import random\n",
    "df=pd.read_csv('ANFR_Herault_Mesures_originales_pour_jpynb.csv', delimiter=';')\n",
    "df.head()"
   ]
  },
  {
   "cell_type": "markdown",
   "metadata": {},
   "source": [
    "\n",
    " **<span style=\"color:#0000C0\"> →Nous avons bien importé les donnés donc maitenent on peut manipulé les donnés &#x1F600;</span>**\n",
    "* <p>Comme premier etap j'ai changé le séparateur de mon fichier Csv de `;` vers `,` Afin de ne pas avoir de difficultés dons l'etape suivant"
   ]
  },
  {
   "cell_type": "code",
   "execution_count": 3,
   "metadata": {},
   "outputs": [],
   "source": [
    "with  open(r\"ANFR_Herault_Mesures_originales_pour_jpynb_C.csv\") as in_file,  open(r\"ANFR_Herault_Mesures_originales_pour_jpynb_V.csv\", 'w') as out_file:\n",
    "    semicolonin = csv.reader(in_file, delimiter=';')\n",
    "    commaout = csv.writer(out_file, delimiter=',')\n",
    "    for row in semicolonin:\n",
    "        commaout.writerow(row)"
   ]
  },
  {
   "cell_type": "code",
   "execution_count": 4,
   "metadata": {},
   "outputs": [
    {
     "data": {
      "text/html": [
       "<div>\n",
       "<style scoped>\n",
       "    .dataframe tbody tr th:only-of-type {\n",
       "        vertical-align: middle;\n",
       "    }\n",
       "\n",
       "    .dataframe tbody tr th {\n",
       "        vertical-align: top;\n",
       "    }\n",
       "\n",
       "    .dataframe thead th {\n",
       "        text-align: right;\n",
       "    }\n",
       "</style>\n",
       "<table border=\"1\" class=\"dataframe\">\n",
       "  <thead>\n",
       "    <tr style=\"text-align: right;\">\n",
       "      <th></th>\n",
       "      <th>Numero de mesure</th>\n",
       "      <th>Longitude</th>\n",
       "      <th>Latitude</th>\n",
       "      <th>Position</th>\n",
       "      <th>Insee</th>\n",
       "      <th>Adresse</th>\n",
       "      <th>Complement</th>\n",
       "      <th>Code postal</th>\n",
       "      <th>Commune</th>\n",
       "      <th>Date de mesure</th>\n",
       "      <th>Mesure realisee</th>\n",
       "      <th>Rapport</th>\n",
       "      <th>Conformite de la mesure</th>\n",
       "      <th>Niveau global</th>\n",
       "      <th>Type d'environnement</th>\n",
       "      <th>Laboratoire</th>\n",
       "    </tr>\n",
       "  </thead>\n",
       "  <tbody>\n",
       "    <tr>\n",
       "      <th>0</th>\n",
       "      <td>175</td>\n",
       "      <td>3.91611</td>\n",
       "      <td>43.58528</td>\n",
       "      <td>03e 54' 58.00'' Est, 43e 35' 07.00'' Nord</td>\n",
       "      <td>34129</td>\n",
       "      <td>Mas de Gau</td>\n",
       "      <td>NaN</td>\n",
       "      <td>34970</td>\n",
       "      <td>LATTES</td>\n",
       "      <td>06/12/2001</td>\n",
       "      <td>En exterieur</td>\n",
       "      <td>FicheMesure175.pdf</td>\n",
       "      <td>Oui</td>\n",
       "      <td>0.00</td>\n",
       "      <td>Divers</td>\n",
       "      <td>SATELIT</td>\n",
       "    </tr>\n",
       "    <tr>\n",
       "      <th>1</th>\n",
       "      <td>180</td>\n",
       "      <td>4.04194</td>\n",
       "      <td>43.64694</td>\n",
       "      <td>04e 02' 31.00'' Est, 43e 38' 49.00'' Nord</td>\n",
       "      <td>34176</td>\n",
       "      <td>5539 Rue Lou Claou de la Oulivettas</td>\n",
       "      <td>NaN</td>\n",
       "      <td>34130</td>\n",
       "      <td>MUDAISON</td>\n",
       "      <td>06/12/2001</td>\n",
       "      <td>En exterieur</td>\n",
       "      <td>FicheMesure180.pdf</td>\n",
       "      <td>Oui</td>\n",
       "      <td>0.00</td>\n",
       "      <td>Divers</td>\n",
       "      <td>SATELIT</td>\n",
       "    </tr>\n",
       "    <tr>\n",
       "      <th>2</th>\n",
       "      <td>543</td>\n",
       "      <td>3.03167</td>\n",
       "      <td>43.36028</td>\n",
       "      <td>03e 01' 54.00'' Est, 43e 21' 37.00'' Nord</td>\n",
       "      <td>34225</td>\n",
       "      <td>Chemin de Montfaucon</td>\n",
       "      <td>residence de  Mme SOUTADE</td>\n",
       "      <td>34620</td>\n",
       "      <td>PUISSERGUIER</td>\n",
       "      <td>23/05/2002</td>\n",
       "      <td>En exterieur</td>\n",
       "      <td>FicheMesure543.pdf</td>\n",
       "      <td>Oui</td>\n",
       "      <td>0.54</td>\n",
       "      <td>Divers</td>\n",
       "      <td>APAVE</td>\n",
       "    </tr>\n",
       "    <tr>\n",
       "      <th>3</th>\n",
       "      <td>545</td>\n",
       "      <td>3.03278</td>\n",
       "      <td>43.36167</td>\n",
       "      <td>03e 01' 58.00'' Est, 43e 21' 42.00'' Nord</td>\n",
       "      <td>34225</td>\n",
       "      <td>Chemin de Quarante</td>\n",
       "      <td>residence de  M. GONZALEZ</td>\n",
       "      <td>34620</td>\n",
       "      <td>PUISSERGUIER</td>\n",
       "      <td>23/05/2002</td>\n",
       "      <td>En exterieur</td>\n",
       "      <td>FicheMesure545.pdf</td>\n",
       "      <td>Oui</td>\n",
       "      <td>0.20</td>\n",
       "      <td>Divers</td>\n",
       "      <td>APAVE</td>\n",
       "    </tr>\n",
       "    <tr>\n",
       "      <th>4</th>\n",
       "      <td>850</td>\n",
       "      <td>3.56444</td>\n",
       "      <td>43.64583</td>\n",
       "      <td>03e 33' 52.00'' Est, 43e 38' 45.00'' Nord</td>\n",
       "      <td>34114</td>\n",
       "      <td>480 Chemin de Pioch Courbi</td>\n",
       "      <td>Chez Mme et M. GALOIS</td>\n",
       "      <td>34150</td>\n",
       "      <td>GIGNAC</td>\n",
       "      <td>10/10/2002</td>\n",
       "      <td>En exterieur</td>\n",
       "      <td>FicheMesure850.pdf</td>\n",
       "      <td>Oui</td>\n",
       "      <td>0.53</td>\n",
       "      <td>Rue / Route / Parking</td>\n",
       "      <td>APAVE</td>\n",
       "    </tr>\n",
       "  </tbody>\n",
       "</table>\n",
       "</div>"
      ],
      "text/plain": [
       "   Numero de mesure  Longitude  Latitude  \\\n",
       "0               175    3.91611  43.58528   \n",
       "1               180    4.04194  43.64694   \n",
       "2               543    3.03167  43.36028   \n",
       "3               545    3.03278  43.36167   \n",
       "4               850    3.56444  43.64583   \n",
       "\n",
       "                                    Position  Insee  \\\n",
       "0  03e 54' 58.00'' Est, 43e 35' 07.00'' Nord  34129   \n",
       "1  04e 02' 31.00'' Est, 43e 38' 49.00'' Nord  34176   \n",
       "2  03e 01' 54.00'' Est, 43e 21' 37.00'' Nord  34225   \n",
       "3  03e 01' 58.00'' Est, 43e 21' 42.00'' Nord  34225   \n",
       "4  03e 33' 52.00'' Est, 43e 38' 45.00'' Nord  34114   \n",
       "\n",
       "                               Adresse                 Complement  \\\n",
       "0                           Mas de Gau                        NaN   \n",
       "1  5539 Rue Lou Claou de la Oulivettas                        NaN   \n",
       "2                 Chemin de Montfaucon  residence de  Mme SOUTADE   \n",
       "3                   Chemin de Quarante  residence de  M. GONZALEZ   \n",
       "4           480 Chemin de Pioch Courbi      Chez Mme et M. GALOIS   \n",
       "\n",
       "   Code postal       Commune Date de mesure Mesure realisee  \\\n",
       "0        34970        LATTES     06/12/2001    En exterieur   \n",
       "1        34130      MUDAISON     06/12/2001    En exterieur   \n",
       "2        34620  PUISSERGUIER     23/05/2002    En exterieur   \n",
       "3        34620  PUISSERGUIER     23/05/2002    En exterieur   \n",
       "4        34150        GIGNAC     10/10/2002    En exterieur   \n",
       "\n",
       "              Rapport Conformite de la mesure  Niveau global  \\\n",
       "0  FicheMesure175.pdf                     Oui           0.00   \n",
       "1  FicheMesure180.pdf                     Oui           0.00   \n",
       "2  FicheMesure543.pdf                     Oui           0.54   \n",
       "3  FicheMesure545.pdf                     Oui           0.20   \n",
       "4  FicheMesure850.pdf                     Oui           0.53   \n",
       "\n",
       "    Type d'environnement Laboratoire  \n",
       "0                 Divers     SATELIT  \n",
       "1                 Divers     SATELIT  \n",
       "2                 Divers       APAVE  \n",
       "3                 Divers       APAVE  \n",
       "4  Rue / Route / Parking       APAVE  "
      ]
     },
     "execution_count": 4,
     "metadata": {},
     "output_type": "execute_result"
    }
   ],
   "source": [
    "dframe=pd.read_csv('ANFR_Herault_Mesures_originales_pour_jpynb_V1.csv')\n",
    "dframe.head()"
   ]
  },
  {
   "cell_type": "code",
   "execution_count": 137,
   "metadata": {},
   "outputs": [],
   "source": [
    "dframe.rename(columns={'Niveau global': 'Niveau_global'}, inplace=True)"
   ]
  },
  {
   "cell_type": "code",
   "execution_count": 5,
   "metadata": {},
   "outputs": [],
   "source": [
    "dframe=dframe.assign(target=1)"
   ]
  },
  {
   "cell_type": "code",
   "execution_count": 6,
   "metadata": {},
   "outputs": [
    {
     "data": {
      "text/plain": [
       "Numero de mesure             int64\n",
       "Longitude                  float64\n",
       "Latitude                   float64\n",
       "Position                    object\n",
       "Insee                        int64\n",
       "Adresse                     object\n",
       "Complement                  object\n",
       "Code postal                  int64\n",
       "Commune                     object\n",
       "Date de mesure              object\n",
       "Mesure realisee             object\n",
       "Rapport                     object\n",
       "Conformite de la mesure     object\n",
       "Niveau global              float64\n",
       "Type d'environnement        object\n",
       "Laboratoire                 object\n",
       "target                       int64\n",
       "dtype: object"
      ]
     },
     "execution_count": 6,
     "metadata": {},
     "output_type": "execute_result"
    }
   ],
   "source": [
    "dframe.dtypes"
   ]
  },
  {
   "cell_type": "code",
   "execution_count": 7,
   "metadata": {
    "scrolled": true
   },
   "outputs": [
    {
     "data": {
      "text/plain": [
       "Numero de mesure           4922\n",
       "Longitude                  4922\n",
       "Latitude                   4922\n",
       "Position                   4922\n",
       "Insee                      4922\n",
       "Adresse                    4922\n",
       "Complement                 4404\n",
       "Code postal                4922\n",
       "Commune                    4922\n",
       "Date de mesure             4922\n",
       "Mesure realisee            4922\n",
       "Rapport                    4922\n",
       "Conformite de la mesure    4922\n",
       "Niveau global              4922\n",
       "Type d'environnement       4922\n",
       "Laboratoire                4922\n",
       "target                     4922\n",
       "dtype: int64"
      ]
     },
     "execution_count": 7,
     "metadata": {},
     "output_type": "execute_result"
    }
   ],
   "source": [
    "dframe.count()"
   ]
  },
  {
   "cell_type": "markdown",
   "metadata": {},
   "source": [
    "<center>---------------------------------</center>\n",
    "<br><strong>→Dans ces étapes je veux ajouter des nouvelles données au fichier Csv et puisque nous concentrés a la colonne niveau global et Numéro de mesure j'ai les donne des valeurs aléatoires:</strong>\n",
    "<ol> \n",
    "    <li>J'ai donné des fréquences aléatoire réel entre 1 et 7 pour que les valeurs inférieur à 6V/m devient plus probable que les valeur supérieur a 6V/m.</li>\n",
    "    <li>pour la colonne niveau global l'aure des valeurs aléatoire entier entre 1000 et 9000.</li>\n",
    "</ol> "
   ]
  },
  {
   "cell_type": "code",
   "execution_count": 8,
   "metadata": {},
   "outputs": [],
   "source": [
    "def append_list_as_row(file_name, list_of_elem):\n",
    "    # Ouvrir le fichier en mode ajout\n",
    "    with open(file_name, 'a+', newline='') as write_obj:\n",
    "        # Créer un objet écrivain à partir du module csv\n",
    "        csv_writer = writer(write_obj)\n",
    "        # Ajouter le contenu de la liste à la dernière ligne du fichier csv\n",
    "        csv_writer.writerow(list_of_elem)"
   ]
  },
  {
   "cell_type": "code",
   "execution_count": 290,
   "metadata": {},
   "outputs": [],
   "source": [
    "def add_line():\n",
    "    for i in range(0,1000):\n",
    "        Niveau_glb = random.uniform(1,7)\n",
    "        Numéro_de_mesure =random.randint(1000,9000)\n",
    "        row_contents = [Numéro_de_mesure, 3.91611,43.64694,'Est 03e 28 49.64 50.65 Nord',34176,\n",
    "       'Chemin de Montfaucon,','residence de Mme SOUTADE',34130,'LATTES','06/12/2001','En exterieure', \n",
    "                    'FicheMesure175.pdf','Oui', Niveau_glb, 'Divers', 'SATELIT']\n",
    "        # Ajout d'une ligne à csv avec des entrées manquantes\n",
    "        append_list_as_row('ANFR_Herault_Mesures_originales_pour_jpynb_V1.csv', row_contents)"
   ]
  },
  {
   "cell_type": "code",
   "execution_count": 291,
   "metadata": {},
   "outputs": [],
   "source": [
    "add_line()"
   ]
  },
  {
   "cell_type": "code",
   "execution_count": 9,
   "metadata": {
    "scrolled": true
   },
   "outputs": [
    {
     "data": {
      "text/html": [
       "<div>\n",
       "<style scoped>\n",
       "    .dataframe tbody tr th:only-of-type {\n",
       "        vertical-align: middle;\n",
       "    }\n",
       "\n",
       "    .dataframe tbody tr th {\n",
       "        vertical-align: top;\n",
       "    }\n",
       "\n",
       "    .dataframe thead th {\n",
       "        text-align: right;\n",
       "    }\n",
       "</style>\n",
       "<table border=\"1\" class=\"dataframe\">\n",
       "  <thead>\n",
       "    <tr style=\"text-align: right;\">\n",
       "      <th></th>\n",
       "      <th>Numero de mesure</th>\n",
       "      <th>Longitude</th>\n",
       "      <th>Latitude</th>\n",
       "      <th>Position</th>\n",
       "      <th>Insee</th>\n",
       "      <th>Adresse</th>\n",
       "      <th>Complement</th>\n",
       "      <th>Code postal</th>\n",
       "      <th>Commune</th>\n",
       "      <th>Date de mesure</th>\n",
       "      <th>Mesure realisee</th>\n",
       "      <th>Rapport</th>\n",
       "      <th>Conformite de la mesure</th>\n",
       "      <th>Niveau global</th>\n",
       "      <th>Type d'environnement</th>\n",
       "      <th>Laboratoire</th>\n",
       "    </tr>\n",
       "  </thead>\n",
       "  <tbody>\n",
       "    <tr>\n",
       "      <th>4917</th>\n",
       "      <td>3474</td>\n",
       "      <td>3.91611</td>\n",
       "      <td>43.64694</td>\n",
       "      <td>Est 03e 28 49.64 50.65 Nord</td>\n",
       "      <td>34176</td>\n",
       "      <td>Chemin de Montfaucon,</td>\n",
       "      <td>residence de Mme SOUTADE</td>\n",
       "      <td>34130</td>\n",
       "      <td>LATTES</td>\n",
       "      <td>06/12/2001</td>\n",
       "      <td>En exterieure</td>\n",
       "      <td>FicheMesure175.pdf</td>\n",
       "      <td>Oui</td>\n",
       "      <td>2.841814</td>\n",
       "      <td>Divers</td>\n",
       "      <td>SATELIT</td>\n",
       "    </tr>\n",
       "    <tr>\n",
       "      <th>4918</th>\n",
       "      <td>3921</td>\n",
       "      <td>3.91611</td>\n",
       "      <td>43.64694</td>\n",
       "      <td>Est 03e 28 49.64 50.65 Nord</td>\n",
       "      <td>34176</td>\n",
       "      <td>Chemin de Montfaucon,</td>\n",
       "      <td>residence de Mme SOUTADE</td>\n",
       "      <td>34130</td>\n",
       "      <td>LATTES</td>\n",
       "      <td>06/12/2001</td>\n",
       "      <td>En exterieure</td>\n",
       "      <td>FicheMesure175.pdf</td>\n",
       "      <td>Oui</td>\n",
       "      <td>1.999765</td>\n",
       "      <td>Divers</td>\n",
       "      <td>SATELIT</td>\n",
       "    </tr>\n",
       "    <tr>\n",
       "      <th>4919</th>\n",
       "      <td>3586</td>\n",
       "      <td>3.91611</td>\n",
       "      <td>43.64694</td>\n",
       "      <td>Est 03e 28 49.64 50.65 Nord</td>\n",
       "      <td>34176</td>\n",
       "      <td>Chemin de Montfaucon,</td>\n",
       "      <td>residence de Mme SOUTADE</td>\n",
       "      <td>34130</td>\n",
       "      <td>LATTES</td>\n",
       "      <td>06/12/2001</td>\n",
       "      <td>En exterieure</td>\n",
       "      <td>FicheMesure175.pdf</td>\n",
       "      <td>Oui</td>\n",
       "      <td>4.746528</td>\n",
       "      <td>Divers</td>\n",
       "      <td>SATELIT</td>\n",
       "    </tr>\n",
       "    <tr>\n",
       "      <th>4920</th>\n",
       "      <td>2956</td>\n",
       "      <td>3.91611</td>\n",
       "      <td>43.64694</td>\n",
       "      <td>Est 03e 28 49.64 50.65 Nord</td>\n",
       "      <td>34176</td>\n",
       "      <td>Chemin de Montfaucon,</td>\n",
       "      <td>residence de Mme SOUTADE</td>\n",
       "      <td>34130</td>\n",
       "      <td>LATTES</td>\n",
       "      <td>06/12/2001</td>\n",
       "      <td>En exterieure</td>\n",
       "      <td>FicheMesure175.pdf</td>\n",
       "      <td>Oui</td>\n",
       "      <td>4.094137</td>\n",
       "      <td>Divers</td>\n",
       "      <td>SATELIT</td>\n",
       "    </tr>\n",
       "    <tr>\n",
       "      <th>4921</th>\n",
       "      <td>2728</td>\n",
       "      <td>3.91611</td>\n",
       "      <td>43.64694</td>\n",
       "      <td>Est 03e 28 49.64 50.65 Nord</td>\n",
       "      <td>34176</td>\n",
       "      <td>Chemin de Montfaucon,</td>\n",
       "      <td>residence de Mme SOUTADE</td>\n",
       "      <td>34130</td>\n",
       "      <td>LATTES</td>\n",
       "      <td>06/12/2001</td>\n",
       "      <td>En exterieure</td>\n",
       "      <td>FicheMesure175.pdf</td>\n",
       "      <td>Oui</td>\n",
       "      <td>1.708546</td>\n",
       "      <td>Divers</td>\n",
       "      <td>SATELIT</td>\n",
       "    </tr>\n",
       "  </tbody>\n",
       "</table>\n",
       "</div>"
      ],
      "text/plain": [
       "      Numero de mesure  Longitude  Latitude                     Position  \\\n",
       "4917              3474    3.91611  43.64694  Est 03e 28 49.64 50.65 Nord   \n",
       "4918              3921    3.91611  43.64694  Est 03e 28 49.64 50.65 Nord   \n",
       "4919              3586    3.91611  43.64694  Est 03e 28 49.64 50.65 Nord   \n",
       "4920              2956    3.91611  43.64694  Est 03e 28 49.64 50.65 Nord   \n",
       "4921              2728    3.91611  43.64694  Est 03e 28 49.64 50.65 Nord   \n",
       "\n",
       "      Insee                Adresse                Complement  Code postal  \\\n",
       "4917  34176  Chemin de Montfaucon,  residence de Mme SOUTADE        34130   \n",
       "4918  34176  Chemin de Montfaucon,  residence de Mme SOUTADE        34130   \n",
       "4919  34176  Chemin de Montfaucon,  residence de Mme SOUTADE        34130   \n",
       "4920  34176  Chemin de Montfaucon,  residence de Mme SOUTADE        34130   \n",
       "4921  34176  Chemin de Montfaucon,  residence de Mme SOUTADE        34130   \n",
       "\n",
       "     Commune Date de mesure Mesure realisee             Rapport  \\\n",
       "4917  LATTES     06/12/2001   En exterieure  FicheMesure175.pdf   \n",
       "4918  LATTES     06/12/2001   En exterieure  FicheMesure175.pdf   \n",
       "4919  LATTES     06/12/2001   En exterieure  FicheMesure175.pdf   \n",
       "4920  LATTES     06/12/2001   En exterieure  FicheMesure175.pdf   \n",
       "4921  LATTES     06/12/2001   En exterieure  FicheMesure175.pdf   \n",
       "\n",
       "     Conformite de la mesure  Niveau global Type d'environnement Laboratoire  \n",
       "4917                     Oui       2.841814               Divers     SATELIT  \n",
       "4918                     Oui       1.999765               Divers     SATELIT  \n",
       "4919                     Oui       4.746528               Divers     SATELIT  \n",
       "4920                     Oui       4.094137               Divers     SATELIT  \n",
       "4921                     Oui       1.708546               Divers     SATELIT  "
      ]
     },
     "execution_count": 9,
     "metadata": {},
     "output_type": "execute_result"
    }
   ],
   "source": [
    "df2=pd.read_csv('ANFR_Herault_Mesures_originales_pour_jpynb_V1.csv')\n",
    "df2.tail()"
   ]
  },
  {
   "cell_type": "code",
   "execution_count": 81,
   "metadata": {},
   "outputs": [
    {
     "data": {
      "text/plain": [
       "Numero de mesure           4922\n",
       "Longitude                  4922\n",
       "Latitude                   4922\n",
       "Position                   4922\n",
       "Insee                      4922\n",
       "Adresse                    4922\n",
       "Complement                 4404\n",
       "Code postal                4922\n",
       "Commune                    4922\n",
       "Date de mesure             4922\n",
       "Mesure realisee            4922\n",
       "Rapport                    4922\n",
       "Conformite de la mesure    4922\n",
       "Niveau global              4922\n",
       "Type d'environnement       4922\n",
       "Laboratoire                4922\n",
       "dtype: int64"
      ]
     },
     "execution_count": 81,
     "metadata": {},
     "output_type": "execute_result"
    }
   ],
   "source": [
    "df2.count()"
   ]
  },
  {
   "cell_type": "markdown",
   "metadata": {},
   "source": [
    "<strong>→Des nouvelles données ont été ajoutées&#x1F601; .</strong>\n",
    "<br><center>----------------------------------------------</center>"
   ]
  },
  {
   "cell_type": "code",
   "execution_count": 10,
   "metadata": {},
   "outputs": [],
   "source": [
    "df2.rename(columns={'Niveau global': 'Niveau_global'}, inplace=True)"
   ]
  },
  {
   "cell_type": "markdown",
   "metadata": {},
   "source": [
    " **<span style=\"color:#0000C0\"> →Je veux créer une nouvelle colonne \"target\" en l'affecter à 1.</span>**"
   ]
  },
  {
   "cell_type": "markdown",
   "metadata": {},
   "source": [
    " <div class=\"alert alert-block alert-danger\">** <span style=\"color:#800000\">→ Lorsque le niveau d’exposition évalué selon le `cas A` du protocole dépasse le niveau d’attention de <strong>6 V/m</strong>, une évaluation selon le `cas B` du protocole devient obligatoire.  </span>** </div>\n",
    "\n",
    "\n"
   ]
  },
  {
   "cell_type": "code",
   "execution_count": 11,
   "metadata": {},
   "outputs": [],
   "source": [
    "df2=df2.assign(target=1)"
   ]
  },
  {
   "cell_type": "markdown",
   "metadata": {},
   "source": [
    ">Cette fonction nous permet de filtrer où le niveau d'attention est supérieur à 6V/m."
   ]
  },
  {
   "cell_type": "markdown",
   "metadata": {},
   "source": [
    "* le labelle '0' si le mesure est supérieur à 6V/m\n",
    "* resté '1' si le mesure est inférieur à 6V/m"
   ]
  },
  {
   "cell_type": "code",
   "execution_count": 12,
   "metadata": {},
   "outputs": [],
   "source": [
    "def target():\n",
    "    m=[]\n",
    "    for t in range(0,len(df)):\n",
    "        if df2['Niveau_global'][t] > 6 :\n",
    "            df2['target'][t] = 0\n",
    "            m.append(df2['Niveau_global'][t])\n",
    "    return(m)"
   ]
  },
  {
   "cell_type": "code",
   "execution_count": 13,
   "metadata": {},
   "outputs": [
    {
     "name": "stdout",
     "output_type": "stream",
     "text": [
      "[9.63, 8.44, 8.03, 9.06, 9.05, 6.65, 15.66, 25.39, 10.33, 9.1, 6.98, 21.03, 10.57, 8.52]\n"
     ]
    },
    {
     "name": "stderr",
     "output_type": "stream",
     "text": [
      "C:\\Users\\ASUS\\Anaconda3\\lib\\site-packages\\ipykernel_launcher.py:5: SettingWithCopyWarning: \n",
      "A value is trying to be set on a copy of a slice from a DataFrame\n",
      "\n",
      "See the caveats in the documentation: https://pandas.pydata.org/pandas-docs/stable/user_guide/indexing.html#returning-a-view-versus-a-copy\n",
      "  \"\"\"\n"
     ]
    }
   ],
   "source": [
    "targ=target()\n",
    "print(targ)"
   ]
  },
  {
   "cell_type": "code",
   "execution_count": 14,
   "metadata": {},
   "outputs": [
    {
     "data": {
      "text/html": [
       "<div>\n",
       "<style scoped>\n",
       "    .dataframe tbody tr th:only-of-type {\n",
       "        vertical-align: middle;\n",
       "    }\n",
       "\n",
       "    .dataframe tbody tr th {\n",
       "        vertical-align: top;\n",
       "    }\n",
       "\n",
       "    .dataframe thead th {\n",
       "        text-align: right;\n",
       "    }\n",
       "</style>\n",
       "<table border=\"1\" class=\"dataframe\">\n",
       "  <thead>\n",
       "    <tr style=\"text-align: right;\">\n",
       "      <th>col_0</th>\n",
       "      <th>freq</th>\n",
       "    </tr>\n",
       "    <tr>\n",
       "      <th>target</th>\n",
       "      <th></th>\n",
       "    </tr>\n",
       "  </thead>\n",
       "  <tbody>\n",
       "    <tr>\n",
       "      <th>0</th>\n",
       "      <td>14</td>\n",
       "    </tr>\n",
       "    <tr>\n",
       "      <th>1</th>\n",
       "      <td>4908</td>\n",
       "    </tr>\n",
       "  </tbody>\n",
       "</table>\n",
       "</div>"
      ],
      "text/plain": [
       "col_0   freq\n",
       "target      \n",
       "0         14\n",
       "1       4908"
      ]
     },
     "execution_count": 14,
     "metadata": {},
     "output_type": "execute_result"
    }
   ],
   "source": [
    "pd.crosstab(df2.target, \"freq\")"
   ]
  },
  {
   "cell_type": "markdown",
   "metadata": {},
   "source": [
    "<strong>→d'après le résultat du tableau au-dessus j'ai remarqué que le data set ils ne sont pas équilibrés.</strong> \n",
    "> car il y a que 14 valeur supérieur à 6V/m est 4908 inférieur a 6V/m  &#x1F60F;"
   ]
  },
  {
   "cell_type": "code",
   "execution_count": 15,
   "metadata": {},
   "outputs": [
    {
     "name": "stdout",
     "output_type": "stream",
     "text": [
      "[[1.75000000e+02 0.00000000e+00]\n",
      " [1.80000000e+02 0.00000000e+00]\n",
      " [5.43000000e+02 5.40000000e-01]\n",
      " ...\n",
      " [3.58600000e+03 4.74652768e+00]\n",
      " [2.95600000e+03 4.09413697e+00]\n",
      " [2.72800000e+03 1.70854568e+00]]\n",
      "[1 1 1 ... 1 1 1]\n"
     ]
    }
   ],
   "source": [
    "X=df2[['Numero de mesure','Niveau_global']].values\n",
    "print(X)\n",
    "y=df2['target'].to_numpy()\n",
    "print(y)"
   ]
  },
  {
   "cell_type": "code",
   "execution_count": 16,
   "metadata": {},
   "outputs": [],
   "source": [
    "from sklearn.model_selection import train_test_split\n",
    "X_train, X_test, y_train, y_test = train_test_split(X, y, test_size=0.3, random_state=0)"
   ]
  },
  {
   "cell_type": "code",
   "execution_count": 17,
   "metadata": {},
   "outputs": [
    {
     "name": "stderr",
     "output_type": "stream",
     "text": [
      "C:\\Users\\ASUS\\Anaconda3\\lib\\site-packages\\sklearn\\linear_model\\logistic.py:433: FutureWarning: Default solver will be changed to 'lbfgs' in 0.22. Specify a solver to silence this warning.\n",
      "  FutureWarning)\n"
     ]
    }
   ],
   "source": [
    "from sklearn.linear_model import LogisticRegression \n",
    "#Create a l.Reg Classifier\n",
    "logreg1 = LogisticRegression()\n",
    "#Train the model using the training sets\n",
    "logreg1.fit(X_train, y_train)\n",
    "y_pred=logreg1.predict(X_test)"
   ]
  },
  {
   "cell_type": "code",
   "execution_count": 18,
   "metadata": {},
   "outputs": [
    {
     "name": "stdout",
     "output_type": "stream",
     "text": [
      "[[   1    4]\n",
      " [   0 1472]]\n",
      "              precision    recall  f1-score   support\n",
      "\n",
      "           0       1.00      0.20      0.33         5\n",
      "           1       1.00      1.00      1.00      1472\n",
      "\n",
      "   micro avg       1.00      1.00      1.00      1477\n",
      "   macro avg       1.00      0.60      0.67      1477\n",
      "weighted avg       1.00      1.00      1.00      1477\n",
      "\n",
      "0.997291807718348\n"
     ]
    }
   ],
   "source": [
    "from sklearn.metrics import classification_report, confusion_matrix, accuracy_score\n",
    "print(confusion_matrix(y_test,y_pred))\n",
    "print(classification_report(y_test,y_pred))\n",
    "print(accuracy_score(y_test, y_pred))"
   ]
  },
  {
   "cell_type": "markdown",
   "metadata": {},
   "source": [
    "* d'aprés le matrice de confusion ona :\n",
    "     * ligne 1 colonne 1 : les 0 positive c-à-d les cas où la prédiction est 0, et où la valeur réelle est effectivement 0.\n",
    "     * ligne 2 colonne 2 : les 1 positive c-à-d les cas où la prédiction est 1, et où la valeur réelle est effectivement 1.\n",
    "     * ligne 1 colonne 2 : les 1 négative c-à-d les cas où la prédiction est 1, et où la valeur réelle est effectivement 0.\n",
    "     * ligne 2 colonne 1 : les 0 négative c-à-d les cas où la prédiction est 0, et où la valeur réelle est effectivement 1.\n",
    "> <br>**<span style=\"color:#0000C0\">Conclusion :</span>**\n",
    "<br>  on a cinq <strong>1</strong> négative, peut être parceque notre data set ils ne sont pas balancé est notre score il ne sont pas $ 100$%\n",
    "  <center>-----------------------------------------</center>"
   ]
  },
  {
   "cell_type": "code",
   "execution_count": 19,
   "metadata": {},
   "outputs": [
    {
     "name": "stdout",
     "output_type": "stream",
     "text": [
      "[[   0    5]\n",
      " [   0 1472]]\n",
      "              precision    recall  f1-score   support\n",
      "\n",
      "           0       0.00      0.00      0.00         5\n",
      "           1       1.00      1.00      1.00      1472\n",
      "\n",
      "   micro avg       1.00      1.00      1.00      1477\n",
      "   macro avg       0.50      0.50      0.50      1477\n",
      "weighted avg       0.99      1.00      0.99      1477\n",
      "\n",
      "0.996614759647935\n"
     ]
    },
    {
     "name": "stderr",
     "output_type": "stream",
     "text": [
      "C:\\Users\\ASUS\\Anaconda3\\lib\\site-packages\\sklearn\\metrics\\classification.py:1143: UndefinedMetricWarning: Precision and F-score are ill-defined and being set to 0.0 in labels with no predicted samples.\n",
      "  'precision', 'predicted', average, warn_for)\n",
      "C:\\Users\\ASUS\\Anaconda3\\lib\\site-packages\\sklearn\\metrics\\classification.py:1143: UndefinedMetricWarning: Precision and F-score are ill-defined and being set to 0.0 in labels with no predicted samples.\n",
      "  'precision', 'predicted', average, warn_for)\n",
      "C:\\Users\\ASUS\\Anaconda3\\lib\\site-packages\\sklearn\\metrics\\classification.py:1143: UndefinedMetricWarning: Precision and F-score are ill-defined and being set to 0.0 in labels with no predicted samples.\n",
      "  'precision', 'predicted', average, warn_for)\n"
     ]
    }
   ],
   "source": [
    "from sklearn.neighbors import KNeighborsClassifier\n",
    "knn = KNeighborsClassifier(n_neighbors=5)\n",
    "knn.fit(X_train, y_train)\n",
    "y_pred = knn.predict(X_test)\n",
    "print(confusion_matrix(y_test,y_pred))\n",
    "print(classification_report(y_test,y_pred))\n",
    "print(accuracy_score(y_test, y_pred))"
   ]
  },
  {
   "cell_type": "code",
   "execution_count": 20,
   "metadata": {},
   "outputs": [
    {
     "name": "stdout",
     "output_type": "stream",
     "text": [
      "[[   0    5]\n",
      " [   3 1469]]\n",
      "              precision    recall  f1-score   support\n",
      "\n",
      "           0       0.00      0.00      0.00         5\n",
      "           1       1.00      1.00      1.00      1472\n",
      "\n",
      "   micro avg       0.99      0.99      0.99      1477\n",
      "   macro avg       0.50      0.50      0.50      1477\n",
      "weighted avg       0.99      0.99      0.99      1477\n",
      "\n",
      "0.994583615436696\n"
     ]
    }
   ],
   "source": [
    "knn = KNeighborsClassifier(n_neighbors=2)\n",
    "knn.fit(X_train, y_train)\n",
    "y_pred = knn.predict(X_test)\n",
    "print(confusion_matrix(y_test,y_pred))\n",
    "print(classification_report(y_test,y_pred))\n",
    "print(accuracy_score(y_test, y_pred))"
   ]
  },
  {
   "cell_type": "code",
   "execution_count": 21,
   "metadata": {},
   "outputs": [
    {
     "name": "stdout",
     "output_type": "stream",
     "text": [
      "[[   5    0]\n",
      " [   0 1472]]\n",
      "              precision    recall  f1-score   support\n",
      "\n",
      "           0       1.00      1.00      1.00         5\n",
      "           1       1.00      1.00      1.00      1472\n",
      "\n",
      "   micro avg       1.00      1.00      1.00      1477\n",
      "   macro avg       1.00      1.00      1.00      1477\n",
      "weighted avg       1.00      1.00      1.00      1477\n",
      "\n",
      "1.0\n"
     ]
    }
   ],
   "source": [
    "from sklearn.tree import DecisionTreeClassifier\n",
    "classifier = DecisionTreeClassifier()\n",
    "classifier.fit(X_train, y_train)\n",
    "y_pred=classifier.predict(X_test)\n",
    "print(confusion_matrix(y_test,y_pred))\n",
    "print(classification_report(y_test,y_pred))\n",
    "print(accuracy_score(y_test, y_pred))"
   ]
  },
  {
   "cell_type": "markdown",
   "metadata": {},
   "source": [
    ">* **<span style=\"color:#0000C0\">Conclusion:</span>**\n",
    "><ol><li>j'ai conclur en utilisant la précision comme mesure de performance, le modèle que le modèle Decision Tree Classifier avec deux classe est plus précis \n",
    " $(1.0)$ que le modèle KNeighborsClassifier $(0,99)$ et Logistic Regression $(0,99)$</li>\n",
    "    <li>plus que le data set est équilibré plus quelle la précision de l'algorithme est forte </li></ol>"
   ]
  },
  {
   "cell_type": "markdown",
   "metadata": {},
   "source": [
    "> <strong>Dans cette partie je veux modifer les données de telle façon les donnés devient balancé 😎</strong>"
   ]
  },
  {
   "cell_type": "markdown",
   "metadata": {},
   "source": [
    "* Tout d'abors j'ai changé la colonne df2['target'] de telles façons les nombres de $un$ et les $deux$ sont égaux"
   ]
  },
  {
   "cell_type": "code",
   "execution_count": 22,
   "metadata": {},
   "outputs": [],
   "source": [
    "def rand_bin_array(K, N):\n",
    "    arr = np.zeros(N)\n",
    "    arr[:K]  = 1\n",
    "    np.random.shuffle(arr)\n",
    "    return arr"
   ]
  },
  {
   "cell_type": "code",
   "execution_count": 23,
   "metadata": {},
   "outputs": [
    {
     "data": {
      "text/plain": [
       "Numero de mesure           4922\n",
       "Longitude                  4922\n",
       "Latitude                   4922\n",
       "Position                   4922\n",
       "Insee                      4922\n",
       "Adresse                    4922\n",
       "Complement                 4404\n",
       "Code postal                4922\n",
       "Commune                    4922\n",
       "Date de mesure             4922\n",
       "Mesure realisee            4922\n",
       "Rapport                    4922\n",
       "Conformite de la mesure    4922\n",
       "Niveau_global              4922\n",
       "Type d'environnement       4922\n",
       "Laboratoire                4922\n",
       "target                     4922\n",
       "dtype: int64"
      ]
     },
     "execution_count": 23,
     "metadata": {},
     "output_type": "execute_result"
    }
   ],
   "source": [
    "df2.count()"
   ]
  },
  {
   "cell_type": "code",
   "execution_count": 24,
   "metadata": {},
   "outputs": [
    {
     "name": "stdout",
     "output_type": "stream",
     "text": [
      "[0. 0. 0. ... 1. 0. 0.]\n",
      "0       0.0\n",
      "1       0.0\n",
      "2       0.0\n",
      "3       1.0\n",
      "4       0.0\n",
      "       ... \n",
      "4917    0.0\n",
      "4918    0.0\n",
      "4919    1.0\n",
      "4920    0.0\n",
      "4921    0.0\n",
      "Name: target, Length: 4922, dtype: float64\n"
     ]
    }
   ],
   "source": [
    "arr=rand_bin_array(2461, 4922)\n",
    "print(arr)\n",
    "target=df2['target'].to_numpy()\n",
    "df2['target']=arr\n",
    "print(df2['target'])"
   ]
  },
  {
   "cell_type": "code",
   "execution_count": 25,
   "metadata": {},
   "outputs": [
    {
     "data": {
      "text/html": [
       "<div>\n",
       "<style scoped>\n",
       "    .dataframe tbody tr th:only-of-type {\n",
       "        vertical-align: middle;\n",
       "    }\n",
       "\n",
       "    .dataframe tbody tr th {\n",
       "        vertical-align: top;\n",
       "    }\n",
       "\n",
       "    .dataframe thead th {\n",
       "        text-align: right;\n",
       "    }\n",
       "</style>\n",
       "<table border=\"1\" class=\"dataframe\">\n",
       "  <thead>\n",
       "    <tr style=\"text-align: right;\">\n",
       "      <th>col_0</th>\n",
       "      <th>freq</th>\n",
       "    </tr>\n",
       "    <tr>\n",
       "      <th>target</th>\n",
       "      <th></th>\n",
       "    </tr>\n",
       "  </thead>\n",
       "  <tbody>\n",
       "    <tr>\n",
       "      <th>0.0</th>\n",
       "      <td>2461</td>\n",
       "    </tr>\n",
       "    <tr>\n",
       "      <th>1.0</th>\n",
       "      <td>2461</td>\n",
       "    </tr>\n",
       "  </tbody>\n",
       "</table>\n",
       "</div>"
      ],
      "text/plain": [
       "col_0   freq\n",
       "target      \n",
       "0.0     2461\n",
       "1.0     2461"
      ]
     },
     "execution_count": 25,
     "metadata": {},
     "output_type": "execute_result"
    }
   ],
   "source": [
    "pd.crosstab(df2.target, \"freq\")"
   ]
  },
  {
   "cell_type": "markdown",
   "metadata": {},
   "source": [
    "* **<span style=\"color:#0000C0\">Maintemnet j'ai continué avec le même etape\n",
    " :</span>**"
   ]
  },
  {
   "cell_type": "code",
   "execution_count": 26,
   "metadata": {},
   "outputs": [
    {
     "name": "stdout",
     "output_type": "stream",
     "text": [
      "[[1.75000000e+02 0.00000000e+00]\n",
      " [1.80000000e+02 0.00000000e+00]\n",
      " [5.43000000e+02 5.40000000e-01]\n",
      " ...\n",
      " [3.58600000e+03 4.74652768e+00]\n",
      " [2.95600000e+03 4.09413697e+00]\n",
      " [2.72800000e+03 1.70854568e+00]]\n",
      "[0. 0. 0. ... 1. 0. 0.]\n"
     ]
    }
   ],
   "source": [
    "X=df2[['Numero de mesure','Niveau_global']].values\n",
    "print(X)\n",
    "y=df2['target'].to_numpy()\n",
    "print(y)"
   ]
  },
  {
   "cell_type": "code",
   "execution_count": 27,
   "metadata": {},
   "outputs": [],
   "source": [
    "from sklearn.model_selection import train_test_split\n",
    "X_train, X_test, y_train, y_test = train_test_split(X, y, test_size=0.3, random_state=0)"
   ]
  },
  {
   "cell_type": "code",
   "execution_count": 28,
   "metadata": {},
   "outputs": [
    {
     "name": "stdout",
     "output_type": "stream",
     "text": [
      "[[351 385]\n",
      " [372 369]]\n",
      "              precision    recall  f1-score   support\n",
      "\n",
      "         0.0       0.49      0.48      0.48       736\n",
      "         1.0       0.49      0.50      0.49       741\n",
      "\n",
      "   micro avg       0.49      0.49      0.49      1477\n",
      "   macro avg       0.49      0.49      0.49      1477\n",
      "weighted avg       0.49      0.49      0.49      1477\n",
      "\n",
      "0.48747461069735953\n"
     ]
    }
   ],
   "source": [
    "from sklearn.neighbors import KNeighborsClassifier\n",
    "knn = KNeighborsClassifier(n_neighbors=5)\n",
    "knn.fit(X_train, y_train)\n",
    "y_pred = knn.predict(X_test)\n",
    "print(confusion_matrix(y_test,y_pred))\n",
    "print(classification_report(y_test,y_pred))\n",
    "print(accuracy_score(y_test, y_pred))"
   ]
  },
  {
   "cell_type": "code",
   "execution_count": 29,
   "metadata": {},
   "outputs": [
    {
     "name": "stdout",
     "output_type": "stream",
     "text": [
      "[[531 205]\n",
      " [558 183]]\n",
      "              precision    recall  f1-score   support\n",
      "\n",
      "         0.0       0.49      0.72      0.58       736\n",
      "         1.0       0.47      0.25      0.32       741\n",
      "\n",
      "   micro avg       0.48      0.48      0.48      1477\n",
      "   macro avg       0.48      0.48      0.45      1477\n",
      "weighted avg       0.48      0.48      0.45      1477\n",
      "\n",
      "0.4834123222748815\n"
     ]
    }
   ],
   "source": [
    "knn = KNeighborsClassifier(n_neighbors=2)\n",
    "knn.fit(X_train, y_train)\n",
    "y_pred = knn.predict(X_test)\n",
    "print(confusion_matrix(y_test,y_pred))\n",
    "print(classification_report(y_test,y_pred))\n",
    "print(accuracy_score(y_test, y_pred))"
   ]
  },
  {
   "cell_type": "code",
   "execution_count": 30,
   "metadata": {},
   "outputs": [
    {
     "name": "stdout",
     "output_type": "stream",
     "text": [
      "[[388 348]\n",
      " [355 386]]\n",
      "              precision    recall  f1-score   support\n",
      "\n",
      "         0.0       0.52      0.53      0.52       736\n",
      "         1.0       0.53      0.52      0.52       741\n",
      "\n",
      "   micro avg       0.52      0.52      0.52      1477\n",
      "   macro avg       0.52      0.52      0.52      1477\n",
      "weighted avg       0.52      0.52      0.52      1477\n",
      "\n",
      "0.5240352064996615\n"
     ]
    }
   ],
   "source": [
    "from sklearn.tree import DecisionTreeClassifier\n",
    "classifier = DecisionTreeClassifier()\n",
    "classifier.fit(X_train, y_train)\n",
    "y_pred=classifier.predict(X_test)\n",
    "print(confusion_matrix(y_test,y_pred))\n",
    "print(classification_report(y_test,y_pred))\n",
    "print(accuracy_score(y_test, y_pred))"
   ]
  },
  {
   "cell_type": "code",
   "execution_count": 31,
   "metadata": {},
   "outputs": [
    {
     "name": "stdout",
     "output_type": "stream",
     "text": [
      "[[  0 736]\n",
      " [  0 741]]\n",
      "              precision    recall  f1-score   support\n",
      "\n",
      "         0.0       0.00      0.00      0.00       736\n",
      "         1.0       0.50      1.00      0.67       741\n",
      "\n",
      "   micro avg       0.50      0.50      0.50      1477\n",
      "   macro avg       0.25      0.50      0.33      1477\n",
      "weighted avg       0.25      0.50      0.34      1477\n",
      "\n",
      "0.5016926201760324\n"
     ]
    },
    {
     "name": "stderr",
     "output_type": "stream",
     "text": [
      "C:\\Users\\ASUS\\Anaconda3\\lib\\site-packages\\sklearn\\linear_model\\logistic.py:433: FutureWarning: Default solver will be changed to 'lbfgs' in 0.22. Specify a solver to silence this warning.\n",
      "  FutureWarning)\n",
      "C:\\Users\\ASUS\\Anaconda3\\lib\\site-packages\\sklearn\\metrics\\classification.py:1143: UndefinedMetricWarning: Precision and F-score are ill-defined and being set to 0.0 in labels with no predicted samples.\n",
      "  'precision', 'predicted', average, warn_for)\n",
      "C:\\Users\\ASUS\\Anaconda3\\lib\\site-packages\\sklearn\\metrics\\classification.py:1143: UndefinedMetricWarning: Precision and F-score are ill-defined and being set to 0.0 in labels with no predicted samples.\n",
      "  'precision', 'predicted', average, warn_for)\n",
      "C:\\Users\\ASUS\\Anaconda3\\lib\\site-packages\\sklearn\\metrics\\classification.py:1143: UndefinedMetricWarning: Precision and F-score are ill-defined and being set to 0.0 in labels with no predicted samples.\n",
      "  'precision', 'predicted', average, warn_for)\n"
     ]
    }
   ],
   "source": [
    "from sklearn.linear_model import LogisticRegression \n",
    "#Create a l.Reg Classifier\n",
    "logreg1 = LogisticRegression()\n",
    "#Train the model using the training sets\n",
    "logreg1.fit(X_train, y_train)\n",
    "y_pred=logreg1.predict(X_test)\n",
    "print(confusion_matrix(y_test,y_pred))\n",
    "print(classification_report(y_test,y_pred))\n",
    "print(accuracy_score(y_test, y_pred))"
   ]
  },
  {
   "cell_type": "markdown",
   "metadata": {},
   "source": [
    "<strong>Malheureusement ma réflexion est fausse, lorsqu ont équilibré les donnés l'algorithme ML subi des difficultés de faire de prédiction pour cela le score est 50% </strong>\n"
   ]
  },
  {
   "cell_type": "markdown",
   "metadata": {},
   "source": [
    ">* **<span style=\"color:#0000C0\">Conclusion:</span>**\n",
    "><ol><li>j'ai conclur en utilisant la précision comme mesure de performance, le modèle $KNN$ avec deux classe est plus précis \n",
    " $(0,51)$ que le modèle Decision Tree Classifier $(0,50)$ et Logistic Regression $(0,40)$</li>\n",
    "    <li>plus que le data set est équilibré plus quelle la précision de l'algorithme est faible </li></ol>"
   ]
  },
  {
   "cell_type": "code",
   "execution_count": 1,
   "metadata": {},
   "outputs": [
    {
     "name": "stdout",
     "output_type": "stream",
     "text": [
      "sklearn 0.20.1\n",
      "csv     1.0\n",
      "pandas  1.1.3\n",
      "numpy   1.17.4\n",
      "seaborn 0.9.0\n",
      "\n"
     ]
    }
   ],
   "source": [
    "import pandas as pd \n",
    "import numpy as np\n",
    "import csv\n",
    "import matplotlib.pyplot as plt\n",
    "import seaborn as sns\n",
    "from csv import writer\n",
    "import random\n",
    "import sklearn\n",
    "%load_ext watermark\n"
   ]
  },
  {
   "cell_type": "code",
   "execution_count": null,
   "metadata": {},
   "outputs": [],
   "source": []
  }
 ],
 "metadata": {
  "kernelspec": {
   "display_name": "Python 3",
   "language": "python",
   "name": "python3"
  },
  "language_info": {
   "codemirror_mode": {
    "name": "ipython",
    "version": 3
   },
   "file_extension": ".py",
   "mimetype": "text/x-python",
   "name": "python",
   "nbconvert_exporter": "python",
   "pygments_lexer": "ipython3",
   "version": "3.7.1"
  }
 },
 "nbformat": 4,
 "nbformat_minor": 2
}
